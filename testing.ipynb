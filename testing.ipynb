{
 "cells": [
  {
   "cell_type": "code",
   "execution_count": 6,
   "id": "660395e3-eb9c-4f6d-95fb-e950621c5589",
   "metadata": {},
   "outputs": [],
   "source": [
    "import pandas as pd"
   ]
  },
  {
   "cell_type": "code",
   "execution_count": 93,
   "id": "2ca79ffb-376a-45cd-831c-8220db93d59c",
   "metadata": {},
   "outputs": [
    {
     "data": {
      "text/html": [
       "<div>\n",
       "<style scoped>\n",
       "    .dataframe tbody tr th:only-of-type {\n",
       "        vertical-align: middle;\n",
       "    }\n",
       "\n",
       "    .dataframe tbody tr th {\n",
       "        vertical-align: top;\n",
       "    }\n",
       "\n",
       "    .dataframe thead th {\n",
       "        text-align: right;\n",
       "    }\n",
       "</style>\n",
       "<table border=\"1\" class=\"dataframe\">\n",
       "  <thead>\n",
       "    <tr style=\"text-align: right;\">\n",
       "      <th></th>\n",
       "      <th>user_email</th>\n",
       "      <th>industry</th>\n",
       "      <th>region</th>\n",
       "      <th>compay_profile</th>\n",
       "      <th>social_presence</th>\n",
       "    </tr>\n",
       "  </thead>\n",
       "  <tbody>\n",
       "    <tr>\n",
       "      <th>0</th>\n",
       "      <td>jginspace@verizon.net</td>\n",
       "      <td>industry_1</td>\n",
       "      <td>region_1</td>\n",
       "      <td>profile</td>\n",
       "      <td>text_text</td>\n",
       "    </tr>\n",
       "    <tr>\n",
       "      <th>1</th>\n",
       "      <td>phizntrg@hotmail.com</td>\n",
       "      <td>industry_2</td>\n",
       "      <td>region_2</td>\n",
       "      <td>profile</td>\n",
       "      <td>text_text</td>\n",
       "    </tr>\n",
       "    <tr>\n",
       "      <th>2</th>\n",
       "      <td>natepuri@aol.com</td>\n",
       "      <td>industry_3</td>\n",
       "      <td>region_3</td>\n",
       "      <td>profile</td>\n",
       "      <td>text_text</td>\n",
       "    </tr>\n",
       "    <tr>\n",
       "      <th>3</th>\n",
       "      <td>north@comcast.net</td>\n",
       "      <td>industry_4</td>\n",
       "      <td>region_1</td>\n",
       "      <td>profile</td>\n",
       "      <td>text_text</td>\n",
       "    </tr>\n",
       "    <tr>\n",
       "      <th>4</th>\n",
       "      <td>kjohnson@msn.com</td>\n",
       "      <td>industry_5</td>\n",
       "      <td>region_2</td>\n",
       "      <td>profile</td>\n",
       "      <td>text_text</td>\n",
       "    </tr>\n",
       "  </tbody>\n",
       "</table>\n",
       "</div>"
      ],
      "text/plain": [
       "              user_email    industry    region compay_profile social_presence\n",
       "0  jginspace@verizon.net  industry_1  region_1        profile       text_text\n",
       "1   phizntrg@hotmail.com  industry_2  region_2        profile       text_text\n",
       "2       natepuri@aol.com  industry_3  region_3        profile       text_text\n",
       "3      north@comcast.net  industry_4  region_1        profile       text_text\n",
       "4       kjohnson@msn.com  industry_5  region_2        profile       text_text"
      ]
     },
     "execution_count": 93,
     "metadata": {},
     "output_type": "execute_result"
    }
   ],
   "source": [
    "third_party = pd.read_json(\"3rd_party_data.json\", lines=True)\n",
    "third_party.head()"
   ]
  },
  {
   "cell_type": "code",
   "execution_count": 99,
   "id": "bb7d42b0-8dd4-4c7f-a3f3-8350531e70d5",
   "metadata": {},
   "outputs": [
    {
     "data": {
      "text/plain": [
       "user_email         0\n",
       "industry           0\n",
       "region             0\n",
       "compay_profile     0\n",
       "social_presence    0\n",
       "dtype: int64"
      ]
     },
     "execution_count": 99,
     "metadata": {},
     "output_type": "execute_result"
    }
   ],
   "source": [
    "third_party.isna().sum()"
   ]
  },
  {
   "cell_type": "code",
   "execution_count": 98,
   "id": "53ec7ff9-6841-4122-8e13-566a659733f4",
   "metadata": {},
   "outputs": [],
   "source": [
    "from airflow.operators.python import PythonOperator"
   ]
  },
  {
   "cell_type": "code",
   "execution_count": 9,
   "id": "32c54e45-52c1-4594-afae-c252a328feb3",
   "metadata": {
    "scrolled": true,
    "tags": []
   },
   "outputs": [
    {
     "name": "stdout",
     "output_type": "stream",
     "text": [
      "{\"user_id\": \"ffbf731b-897f-465e-b4c7-2f5efa54989d\", \"checklist_id\": \"c9d557ee-a580-46af-91e6-60fb8ec9bc9a\", \"checklist_name\": \"Checklist No 243\", \"items\": [{\"item_id\": \"e2953563-3c29-451a-8611-b775e4bb3190\", \"item_title\": \"item number 0\", \"item_value\": \"0\"}], \"media\":{\"1206dbe1-7f8f-4c77-8e54-189f454c796a\":{\"title\":\"image_1\", \"descritption\":\"Foo Bar, Foo Bar\"}, \"9bf0fd17-6d9b-44ab-9eb0-bb6981428256\":{\"title\":\"image_2\", \"descritption\":\"Foo Bar, Foo Bar\"}}}}\n",
      "{\"user_id\": \"584f6006-dc4b-4dd3-bf8b-eafbd98859aa\", \"checklist_id\": \"c9944b8c-3342-4443-99ce-385795384f00\", \"checklist_name\": \"Checklist No 390\", \"items\": [{\"item_id\": \"8b76d968-848d-4067-9d00-a6d13031d6b9\", \"item_title\": \"item number 1\", \"item_value\": \"1\"}]}\n",
      "{\"user_id\": \"584f6006-dc4b-4dd3-bf8b-eafbd98859aa\", \"checklist_id\": \"58979a18-b8c0-42bf-8af0-a74d5e6d07f1\", \"checklist_name\": \"Checklist No 595\", \"items\": [{\"item_id\": \"f212c872-0f67-452d-b1c9-b37a4b87e8be\", \"item_title\": \"item number 2\", \"item_value\": \"2\"}]}\n",
      "{\"user_id\": \"9cc69da1-1043-452b-b032-fe04915fa22f\", \"checklist_id\": \"efb76f2f-5964-4fe0-a456-55e6c2cb7423\", \"checklist_name\": \"Checklist No 263\", \"items\": [{\"item_id\": \"a315210c-6953-404f-9832-6f2a7d2db693\", \"item_title\": \"item number 3\", \"item_value\": \"3\"},{\"item_id\": \"cd463ff1-09be-4ec9-81b3-53fcfc7daf9b\", \"item_title\": \"item number 4\", \"item_value\": \"107\"},{\"item_id\": \"e1fada8d-8f05-4cd3-b08c-765a5e0dfba7\", \"item_title\": \"item number 5\", \"item_value\": \"169\"}]}\n",
      "{\"user_id\": \"22bb16aa-b898-4873-93ba-1a9392ab20ca\", \"checklist_id\": \"809fb761-3338-4a16-988b-edd6910eb55b\", \"checklist_name\": \"Checklist No 598\", \"items\": [{\"item_id\": \"dbd847d8-fc53-49c8-ba97-aa985cbc4ee4\", \"item_title\": \"item number 4\", \"item_value\": \"4\"},{\"item_id\": \"6312e8d9-5328-4d87-aefc-630b9bf23ee1\", \"item_title\": \"item number 5\", \"item_value\": \"102\"}]}\n",
      "{\"user_id\": \"9cc69da1-1043-452b-b032-fe04915fa22f\", \"checklist_id\": \"0646e7d5-67a7-4286-b44d-513402eb49b4\", \"checklist_name\": \"Checklist No 462\", \"items\": [{\"item_id\": \"ec911735-ab56-4393-b7f1-989253bb8781\", \"item_title\": \"item number 5\", \"item_value\": \"5\"},{\"item_id\": \"49b3a4c1-3ecf-4a81-9269-7fde741db19f\", \"item_title\": \"item number 6\", \"item_value\": \"82\"}]}\n",
      "{\"user_id\": \"43198eb0-6fe0-40ad-a852-c0f23e5af3f9\", \"checklist_id\": \"01ed3b68-3667-46c2-b9d1-e66e8bb0cd01\", \"checklist_name\": \"Checklist No 155\", \"items\": [{\"item_id\": \"60b6dceb-81af-44f5-b505-703fe26abdaa\", \"item_title\": \"item number 6\", \"item_value\": \"6\"},{\"item_id\": \"92fc7c0c-e5fc-421e-9d71-fde49f5f61b1\", \"item_title\": \"item number 7\", \"item_value\": \"82\"},{\"item_id\": \"7b2b81a6-4f12-486f-8629-5f074f7cadb4\", \"item_title\": \"item number 8\", \"item_value\": \"188\"}]}\n",
      "{\"user_id\": \"053571bf-23de-40b4-8be8-e9d4f89f5bed\", \"checklist_id\": \"b6d19470-0b60-45db-98c5-ae9de7e31e1c\", \"checklist_name\": \"Checklist No 100\", \"items\": [{\"item_id\": \"e86d3c97-5385-4ae8-b2b7-ff850c0f3419\", \"item_title\": \"item number 7\", \"item_value\": \"7\"},{\"item_id\": \"40d92559-5e03-4989-8d7b-4dbc051559e9\", \"item_title\": \"item number 8\", \"item_value\": \"46\"},{\"item_id\": \"79d01364-7554-4316-bf29-2cc87721e2e6\", \"item_title\": \"item number 9\", \"item_value\": \"139\"},{\"item_id\": \"e6172244-3ad6-45de-8542-b70ba4dc9a5a\", \"item_title\": \"item number 10\", \"item_value\": \"52\"}]}\n",
      "{\"user_id\": \"d4078c4e-059a-4e68-bad7-e0ba9714d935\", \"checklist_id\": \"7ec55fa1-0a2e-49cc-b17e-61bdb77642cd\", \"checklist_name\": \"Checklist No 700\", \"items\": [{\"item_id\": \"f05f4a88-56af-433a-b429-54574ccd2467\", \"item_title\": \"item number 8\", \"item_value\": \"8\"},{\"item_id\": \"4ae1ead3-9e5c-44c3-9ab4-75099d5611ba\", \"item_title\": \"item number 9\", \"item_value\": \"124\"},{\"item_id\": \"ebfc4126-a953-4923-a11b-4d3e719c07ff\", \"item_title\": \"item number 10\", \"item_value\": \"206\"}]}\n",
      "{\"user_id\": \"195e55b4-b843-4f7e-b9ef-c038f8465040\", \"checklist_id\": \"59b64cc0-78c7-4b07-898a-7fb387f8639e\", \"checklist_name\": \"Checklist No 184\", \"items\": [{\"item_id\": \"4d27eb88-d41a-4544-b34c-b10db79aad9b\", \"item_title\": \"item number 9\", \"item_value\": \"9\"},{\"item_id\": \"1dfba3da-a098-484f-be35-795b7b004195\", \"item_title\": \"item number 10\", \"item_value\": \"87\"},{\"item_id\": \"1c0099f4-505e-4cfb-8085-a40a431a8774\", \"item_title\": \"item number 11\", \"item_value\": \"35\"},{\"item_id\": \"acd7b4f7-ed13-42b5-84ee-681c1a2225fb\", \"item_title\": \"item number 12\", \"item_value\": \"111\"}]}\n",
      "{\"user_id\": \"d4078c4e-059a-4e68-bad7-e0ba9714d935\", \"checklist_id\": \"71a04d01-2425-42e7-b479-d6cc977c6945\", \"checklist_name\": \"Checklist No 125\", \"items\": [{\"item_id\": \"1206dbe1-7f8f-4c77-8e54-189f454c796a\", \"item_title\": \"item number 10\", \"item_value\": \"10\"},{\"item_id\": \"8f5d383f-7b20-4de6-941b-f0abf6a39823\", \"item_title\": \"item number 11\", \"item_value\": \"123\"},{\"item_id\": \"cbb987df-4b21-482e-9770-4305f59128ff\", \"item_title\": \"item number 12\", \"item_value\": \"200\"}]}\n",
      "{\"user_id\": \"ffbf731b-897f-465e-b4c7-2f5efa54989d\", \"checklist_id\": \"35041ec8-58df-4c0e-b6f4-1d76cc7de350\", \"checklist_name\": \"Checklist No 561\", \"items\": [{\"item_id\": \"19fb9ab5-5e81-4159-8840-269438ea4f50\", \"item_title\": \"item number 11\", \"item_value\": \"11\"},{\"item_id\": \"a00732b9-11a6-444b-aeab-61ebba5c86a7\", \"item_title\": \"item number 12\", \"item_value\": \"128\"},{\"item_id\": \"e5faad07-499f-4db3-8057-151a8b73009b\", \"item_title\": \"item number 13\", \"item_value\": \"97\"},{\"item_id\": \"c54dfa21-f36d-465c-8f36-60c5ce8e1399\", \"item_title\": \"item number 14\", \"item_value\": \"149\"},{\"item_id\": \"63d7f649-c8d1-4fd6-8928-01f7349a8406\", \"item_title\": \"item number 15\", \"item_value\": \"223\"}]}\n",
      "{\"user_id\": \"584f6006-dc4b-4dd3-bf8b-eafbd98859aa\", \"checklist_id\": \"d38ce10b-fb95-49ed-9381-b4cd1c30c1b3\", \"checklist_name\": \"Checklist No 562\", \"items\": [{\"item_id\": \"37041d94-9688-4b7a-bbc6-58ceacfa8782\", \"item_title\": \"item number 12\", \"item_value\": \"12\"},{\"item_id\": \"aac42666-a054-4018-a369-ee905ce6898e\", \"item_title\": \"item number 13\", \"item_value\": \"68\"},{\"item_id\": \"72f02be3-80fc-4b56-8f51-248997bfd9ad\", \"item_title\": \"item number 14\", \"item_value\": \"96\"}]}\n",
      "{\"user_id\": \"a464e226-4cb9-485b-af27-3f74951870d2\", \"checklist_id\": \"05cc3825-8e6b-4742-a84c-ee5588d806be\", \"checklist_name\": \"Checklist No 608\", \"items\": [{\"item_id\": \"8ea518f6-c23e-41be-a4fd-3a07c1c3d53e\", \"item_title\": \"item number 13\", \"item_value\": \"13\"},{\"item_id\": \"fabc15aa-4bf6-43c0-8faf-7ce2cdd18aa8\", \"item_title\": \"item number 14\", \"item_value\": \"14\"},{\"item_id\": \"669b7ff7-1d46-475f-91d3-c0cd1d09f29c\", \"item_title\": \"item number 15\", \"item_value\": \"101\"}]}\n",
      "{\"user_id\": \"ddb10af5-9fed-4d43-a624-fd585c8e3673\", \"checklist_id\": \"a00b577a-8f76-4aa0-849e-c5d129c74956\", \"checklist_name\": \"Checklist No 181\", \"items\": [{\"item_id\": \"63fc8e2e-5f49-480a-9c67-113597789db3\", \"item_title\": \"item number 14\", \"item_value\": \"14\"},{\"item_id\": \"0484aba5-ec76-407e-8cdd-9a6bff89c166\", \"item_title\": \"item number 15\", \"item_value\": \"19\"},{\"item_id\": \"6708c1cc-4270-4e64-8760-cb5a110208f1\", \"item_title\": \"item number 16\", \"item_value\": \"190\"},{\"item_id\": \"dfd3767e-6669-4d30-b97a-816e7bc4027b\", \"item_title\": \"item number 17\", \"item_value\": \"275\"},{\"item_id\": \"4752c669-dfc9-4262-9361-3ad47f0fa885\", \"item_title\": \"item number 18\", \"item_value\": \"486\"}]}\n",
      "{\"user_id\": \"5d36c61a-6302-454c-8f83-d7908a4fd19f\", \"checklist_id\": \"2c4c266f-ed0f-421d-b50b-b6322d910a2a\", \"checklist_name\": \"Checklist No 240\", \"items\": [{\"item_id\": \"ac94f4f9-7853-4708-badb-c17dfe76ed77\", \"item_title\": \"item number 15\", \"item_value\": \"15\"},{\"item_id\": \"6fe43c56-9554-4f21-854f-105d19e25a2e\", \"item_title\": \"item number 16\", \"item_value\": \"82\"},{\"item_id\": \"aa42e572-151e-4809-b13d-530a3c76de5b\", \"item_title\": \"item number 17\", \"item_value\": \"129\"},{\"item_id\": \"91960c39-26ac-4adf-9549-8d02cd3da04b\", \"item_title\": \"item number 18\", \"item_value\": \"15\"}]}\n",
      "{\"user_id\": \"ffbf731b-897f-465e-b4c7-2f5efa54989d\", \"checklist_id\": \"413396b6-2255-4b83-9320-ed16b9dd5729\", \"checklist_name\": \"Checklist No 554\", \"items\": [{\"item_id\": \"ef8a4a21-99b6-4614-ae65-100ff1ac894c\", \"item_title\": \"item number 16\", \"item_value\": \"16\"},{\"item_id\": \"142e12e4-b9ed-4972-bfea-8e14e270d4e8\", \"item_title\": \"item number 17\", \"item_value\": \"94\"},{\"item_id\": \"9bf0fd17-6d9b-44ab-9eb0-bb6981428256\", \"item_title\": \"item number 18\", \"item_value\": \"144\"},{\"item_id\": \"23025f72-d045-4b16-a7a4-a9532ac9ee5b\", \"item_title\": \"item number 19\", \"item_value\": \"280\"},{\"item_id\": \"c33210f2-ffc8-483c-9720-bf3e5df08086\", \"item_title\": \"item number 20\", \"item_value\": \"284\"}]}\n",
      "{\"user_id\": \"3c3d679e-0257-45ed-bf47-2f3594c7d0fa\", \"checklist_id\": \"fa708c94-e353-4b85-9943-43269d380d98\", \"checklist_name\": \"Checklist No 307\", \"items\": [{\"item_id\": \"33597a8d-6bac-4cb5-91ed-4a7d7b0a27b7\", \"item_title\": \"item number 17\", \"item_value\": \"17\"},{\"item_id\": \"d10057f9-eda1-4d1c-ae25-590707857b22\", \"item_title\": \"item number 18\", \"item_value\": \"107\"}]}\n",
      "{\"user_id\": \"43198eb0-6fe0-40ad-a852-c0f23e5af3f9\", \"checklist_id\": \"368d6107-ca5d-426c-ae3e-5ee59e11f60a\", \"checklist_name\": \"Checklist No 502\", \"items\": [{\"item_id\": \"998f9980-f7c2-4cdf-b257-23c453e83d56\", \"item_title\": \"item number 18\", \"item_value\": \"18\"}]}\n",
      "{\"user_id\": \"d4078c4e-059a-4e68-bad7-e0ba9714d935\", \"checklist_id\": \"04544b37-214a-47d7-8c50-5f83d208dc23\", \"checklist_name\": \"Checklist No 649\", \"items\": [{\"item_id\": \"32635b19-d859-4029-9fc1-52d0fe3bc677\", \"item_title\": \"item number 19\", \"item_value\": \"19\"},{\"item_id\": \"01737758-b427-496f-b80d-cff1a595f109\", \"item_title\": \"item number 20\", \"item_value\": \"28\"},{\"item_id\": \"8a956e1e-c4ff-428f-9c12-9f60621362ae\", \"item_title\": \"item number 21\", \"item_value\": \"229\"},{\"item_id\": \"cfd5fd3f-cf49-4732-9bd1-147999df378b\", \"item_title\": \"item number 22\", \"item_value\": \"112\"},{\"item_id\": \"ac1b420e-e750-47d0-adce-872fa5f0aeda\", \"item_title\": \"item number 23\", \"item_value\": \"427\"}]}\n",
      "{\"user_id\": \"d4078c4e-059a-4e68-bad7-e0ba9714d935\", \"checklist_id\": \"4859e3bb-b08d-46bd-82f5-26c81eb0e4ad\", \"checklist_name\": \"Checklist No 135\", \"items\": [{\"item_id\": \"88aa3b2c-369f-466e-adf8-bac88d88bcfb\", \"item_title\": \"item number 20\", \"item_value\": \"20\"},{\"item_id\": \"13994c73-78e8-40c1-a126-ccb89a99136b\", \"item_title\": \"item number 21\", \"item_value\": \"94\"}]}\n",
      "{\"user_id\": \"3c3d679e-0257-45ed-bf47-2f3594c7d0fa\", \"checklist_id\": \"8696dc6e-0146-4c9b-a4ce-88fb56457dff\", \"checklist_name\": \"Checklist No 326\", \"items\": [{\"item_id\": \"9df6b336-dfe9-4c0b-8f64-3b6242d29d2e\", \"item_title\": \"item number 21\", \"item_value\": \"21\"},{\"item_id\": \"f3c177b7-7db1-4034-bbd0-b53581ca88d0\", \"item_title\": \"item number 22\", \"item_value\": \"54\"}]}\n",
      "{\"user_id\": \"5d36c61a-6302-454c-8f83-d7908a4fd19f\", \"checklist_id\": \"d0b11b40-3a6b-46e3-b861-ad39be94d19a\", \"checklist_name\": \"Checklist No 369\", \"items\": [{\"item_id\": \"1d438770-6fce-4ae8-ba5b-29d326a7937c\", \"item_title\": \"item number 22\", \"item_value\": \"22\"}]}\n",
      "{\"user_id\": \"0e50c52d-9edf-4b68-ab3c-bd635875bf95\", \"checklist_id\": \"4a7359ed-f3ba-494c-a5e2-ab8093aa10e1\", \"checklist_name\": \"Checklist No 514\", \"items\": [{\"item_id\": \"916f7861-8866-4cb8-b737-3c4cc63983b5\", \"item_title\": \"item number 23\", \"item_value\": \"23\"},{\"item_id\": \"adcf10a9-3ff5-4b6d-b654-23b8462572cb\", \"item_title\": \"item number 24\", \"item_value\": \"136\"},{\"item_id\": \"e5343659-ddff-4822-af35-7f932b7ae817\", \"item_title\": \"item number 25\", \"item_value\": \"125\"}]}\n",
      "{\"user_id\": \"3c3d679e-0257-45ed-bf47-2f3594c7d0fa\", \"checklist_id\": \"fed9e8a8-7398-4267-8662-dfa58e1fd9e5\", \"checklist_name\": \"Checklist No 569\", \"items\": [{\"item_id\": \"eab96b33-bb06-46a0-a8f0-2e53a18adee9\", \"item_title\": \"item number 24\", \"item_value\": \"24\"},{\"item_id\": \"b55e4ff4-a286-40bd-bb96-88dddb277646\", \"item_title\": \"item number 25\", \"item_value\": \"81\"},{\"item_id\": \"de2401ef-44f0-4503-b863-faf7d18e4ccc\", \"item_title\": \"item number 26\", \"item_value\": \"100\"},{\"item_id\": \"ddba38cb-40e4-4af2-a807-c0c48a7b3a43\", \"item_title\": \"item number 27\", \"item_value\": \"345\"}]}\n",
      "{\"user_id\": \"9cc69da1-1043-452b-b032-fe04915fa22f\", \"checklist_id\": \"e02f7b0b-4eab-45cb-9699-908942b7ab05\", \"checklist_name\": \"Checklist No 322\", \"items\": [{\"item_id\": \"1e4c5fa5-e389-415c-a5d7-055897f6d8d4\", \"item_title\": \"item number 25\", \"item_value\": \"25\"}]}\n",
      "{\"user_id\": \"c71cbf53-8fe9-48bb-94bd-471b6cb29d66\", \"checklist_id\": \"2572857c-9bd6-4668-90a8-7a5aa978ee9d\", \"checklist_name\": \"Checklist No 650\", \"items\": [{\"item_id\": \"11a4d3ff-27a8-4f87-bc35-65800c003feb\", \"item_title\": \"item number 26\", \"item_value\": \"26\"},{\"item_id\": \"16e875dd-822b-42ef-9cca-89a73ae6b1b1\", \"item_title\": \"item number 27\", \"item_value\": \"94\"}]}\n",
      "{\"user_id\": \"43198eb0-6fe0-40ad-a852-c0f23e5af3f9\", \"checklist_id\": \"b49855fd-4793-4686-bcf2-6f7b8a9585be\", \"checklist_name\": \"Checklist No 239\", \"items\": [{\"item_id\": \"7f12b325-1811-40ae-8bf8-e0f381514c6b\", \"item_title\": \"item number 27\", \"item_value\": \"27\"},{\"item_id\": \"2ffdab89-400b-4a5e-8880-1712d3e0e0f3\", \"item_title\": \"item number 28\", \"item_value\": \"67\"},{\"item_id\": \"b482e68c-c667-4226-8114-09644bbcec2d\", \"item_title\": \"item number 29\", \"item_value\": \"73\"},{\"item_id\": \"fa54c456-cf24-4cd2-a04f-33517d2299a2\", \"item_title\": \"item number 30\", \"item_value\": \"105\"}]}\n",
      "{\"user_id\": \"38992db5-5b0b-4ba4-9add-ac4c1fadae19\", \"checklist_id\": \"d46dc407-3561-4b1c-ad8d-a6a7e432e374\", \"checklist_name\": \"Checklist No 709\", \"items\": [{\"item_id\": \"969f0495-36e6-489a-bdb2-add0f6f94648\", \"item_title\": \"item number 28\", \"item_value\": \"28\"},{\"item_id\": \"ecae1a09-69c3-437b-9b19-15c62630d757\", \"item_title\": \"item number 29\", \"item_value\": \"149\"},{\"item_id\": \"9a7177da-88a5-4b71-b160-87bc5ba8a74c\", \"item_title\": \"item number 30\", \"item_value\": \"146\"},{\"item_id\": \"a375d085-4cf0-4e4f-9127-4ad4922c9726\", \"item_title\": \"item number 31\", \"item_value\": \"193\"},{\"item_id\": \"92f738d0-cc3a-4a6e-a5e8-c5e8f9279056\", \"item_title\": \"item number 32\", \"item_value\": \"132\"}]}\n",
      "{\"user_id\": \"43198eb0-6fe0-40ad-a852-c0f23e5af3f9\", \"checklist_id\": \"87510c7e-f252-4d63-ade8-1f05feef8b20\", \"checklist_name\": \"Checklist No 211\", \"items\": [{\"item_id\": \"5234c1e8-ee5f-41d2-94ce-c138a548b5ff\", \"item_title\": \"item number 29\", \"item_value\": \"29\"},{\"item_id\": \"28fde492-be81-417e-acb0-57d600e521ab\", \"item_title\": \"item number 30\", \"item_value\": \"99\"}]}\n",
      "{\"user_id\": \"ffbf731b-897f-465e-b4c7-2f5efa54989d\", \"checklist_id\": \"7e53b185-19ed-4888-a908-f96307f5ffc9\", \"checklist_name\": \"Checklist No 181\", \"items\": [{\"item_id\": \"9959b749-7ca2-439c-b2fa-65340dfa2374\", \"item_title\": \"item number 30\", \"item_value\": \"30\"}]}\n",
      "{\"user_id\": \"ddb10af5-9fed-4d43-a624-fd585c8e3673\", \"checklist_id\": \"850b9337-f966-4a81-9d8a-a7db4df0800b\", \"checklist_name\": \"Checklist No 183\", \"items\": [{\"item_id\": \"a8d7d932-77a4-489a-a191-ffb032751020\", \"item_title\": \"item number 31\", \"item_value\": \"31\"},{\"item_id\": \"36bdede6-d565-45ab-92a4-5de55982ff08\", \"item_title\": \"item number 32\", \"item_value\": \"141\"},{\"item_id\": \"1cdb5489-4eb3-4950-bde2-56de3642ea03\", \"item_title\": \"item number 33\", \"item_value\": \"231\"}]}\n",
      "{\"user_id\": \"053571bf-23de-40b4-8be8-e9d4f89f5bed\", \"checklist_id\": \"34c15e01-ccfb-4ceb-b876-b7b37369e004\", \"checklist_name\": \"Checklist No 687\", \"items\": [{\"item_id\": \"74714799-f3cf-4db1-9067-f083019a57c0\", \"item_title\": \"item number 32\", \"item_value\": \"32\"},{\"item_id\": \"83a0faab-6e7a-4f9a-b98e-dc3f1bfd68c2\", \"item_title\": \"item number 33\", \"item_value\": \"45\"}]}\n",
      "{\"user_id\": \"43198eb0-6fe0-40ad-a852-c0f23e5af3f9\", \"checklist_id\": \"5736fef8-96cc-4450-9919-9181912fd8bd\", \"checklist_name\": \"Checklist No 539\", \"items\": [{\"item_id\": \"c1aa3b45-00e7-405a-be35-641020f38bb0\", \"item_title\": \"item number 33\", \"item_value\": \"33\"},{\"item_id\": \"049e338d-f437-4dfe-8c2c-a2743129212e\", \"item_title\": \"item number 34\", \"item_value\": \"130\"}]}\n",
      "{\"user_id\": \"a464e226-4cb9-485b-af27-3f74951870d2\", \"checklist_id\": \"b792aaad-854b-4414-8c33-3450d475faf1\", \"checklist_name\": \"Checklist No 293\", \"items\": [{\"item_id\": \"0943932a-4b35-4f9c-b13d-621a2513a429\", \"item_title\": \"item number 34\", \"item_value\": \"34\"},{\"item_id\": \"92a7ff94-8313-4d4c-bad9-aa224a3dae9a\", \"item_title\": \"item number 35\", \"item_value\": \"132\"}]}\n",
      "{\"user_id\": \"6ac30b67-face-468c-b2d1-71632442405b\", \"checklist_id\": \"f1e2cd42-5dc7-40ae-b02b-8448cfd35011\", \"checklist_name\": \"Checklist No 793\", \"items\": [{\"item_id\": \"d32677df-274b-4925-8b4a-95b13b46c958\", \"item_title\": \"item number 35\", \"item_value\": \"35\"},{\"item_id\": \"10708971-bebb-4311-af22-03953ae3cbf4\", \"item_title\": \"item number 36\", \"item_value\": \"119\"}]}\n",
      "{\"user_id\": \"d4078c4e-059a-4e68-bad7-e0ba9714d935\", \"checklist_id\": \"1865362b-ee18-4bfd-81d9-7fd1f08e7add\", \"checklist_name\": \"Checklist No 129\", \"items\": [{\"item_id\": \"1ee8afe3-331e-4884-bbdb-5b6265689a60\", \"item_title\": \"item number 36\", \"item_value\": \"36\"},{\"item_id\": \"57926daa-7d1f-49f1-935e-762d82b915da\", \"item_title\": \"item number 37\", \"item_value\": \"98\"},{\"item_id\": \"768e1497-1404-4bf5-88dc-9dd9d0882489\", \"item_title\": \"item number 38\", \"item_value\": \"236\"},{\"item_id\": \"677099cd-a6e8-467b-9059-12c03cb89a5c\", \"item_title\": \"item number 39\", \"item_value\": \"54\"}]}\n",
      "{\"user_id\": \"053571bf-23de-40b4-8be8-e9d4f89f5bed\", \"checklist_id\": \"3aea8f65-6ccc-42ff-8e88-bd9b613e3ab7\", \"checklist_name\": \"Checklist No 755\", \"items\": [{\"item_id\": \"91b4f448-dee2-46bc-a0bf-bcf016b661e9\", \"item_title\": \"item number 37\", \"item_value\": \"37\"},{\"item_id\": \"44747d82-806a-4a22-9128-e0a79ab918f1\", \"item_title\": \"item number 38\", \"item_value\": \"71\"},{\"item_id\": \"02f4de29-14f6-4769-afdb-de583b03eb2d\", \"item_title\": \"item number 39\", \"item_value\": \"235\"}]}\n",
      "{\"user_id\": \"43198eb0-6fe0-40ad-a852-c0f23e5af3f9\", \"checklist_id\": \"4155e207-abea-4f49-b654-7771a81ae233\", \"checklist_name\": \"Checklist No 41\", \"items\": [{\"item_id\": \"b7927c9b-4591-4992-8707-8d715d0634e0\", \"item_title\": \"item number 38\", \"item_value\": \"38\"},{\"item_id\": \"a47013c2-9387-4aa3-96ed-7affdd4938b9\", \"item_title\": \"item number 39\", \"item_value\": \"134\"},{\"item_id\": \"991ca0fd-1e2e-4990-8bb1-d5db2ed84094\", \"item_title\": \"item number 40\", \"item_value\": \"210\"},{\"item_id\": \"232e31b4-dc77-4c0f-be04-80f0d35cd976\", \"item_title\": \"item number 41\", \"item_value\": \"233\"}]}\n",
      "{\"user_id\": \"053571bf-23de-40b4-8be8-e9d4f89f5bed\", \"checklist_id\": \"19e03678-da19-4db4-a63e-6c383c0eceae\", \"checklist_name\": \"Checklist No 148\", \"items\": [{\"item_id\": \"9afa2bd8-ed7d-4d62-b0ed-3f12c52164a8\", \"item_title\": \"item number 39\", \"item_value\": \"39\"},{\"item_id\": \"cc05daca-7175-4e78-9da9-f527a5ddd29c\", \"item_title\": \"item number 40\", \"item_value\": \"78\"},{\"item_id\": \"4e7cd58e-fa1b-4e7c-b503-ac6b0d7d71fa\", \"item_title\": \"item number 41\", \"item_value\": \"121\"},{\"item_id\": \"c70ccc8f-5c72-4c57-a842-7a7cf67c1038\", \"item_title\": \"item number 42\", \"item_value\": \"93\"}]}\n",
      "{\"user_id\": \"c71cbf53-8fe9-48bb-94bd-471b6cb29d66\", \"checklist_id\": \"ea0057f7-d92b-4d14-9bf5-d8ae944c1c71\", \"checklist_name\": \"Checklist No 402\", \"items\": [{\"item_id\": \"6f797d65-6156-4f41-bf09-0bb2433d668a\", \"item_title\": \"item number 40\", \"item_value\": \"40\"},{\"item_id\": \"921fc3b8-e46d-4857-8b61-ce6412c6bf34\", \"item_title\": \"item number 41\", \"item_value\": \"160\"},{\"item_id\": \"43343271-dc50-445f-8e70-6e7bbafbbcb3\", \"item_title\": \"item number 42\", \"item_value\": \"156\"}]}\n",
      "{\"user_id\": \"22bb16aa-b898-4873-93ba-1a9392ab20ca\", \"checklist_id\": \"f448c702-340e-4312-a4aa-455fabe51024\", \"checklist_name\": \"Checklist No 459\", \"items\": [{\"item_id\": \"390a2068-db73-4ba1-b6e5-bddc07b32d4f\", \"item_title\": \"item number 41\", \"item_value\": \"41\"},{\"item_id\": \"188a3e51-7b1b-4f63-8b00-89529e2cc704\", \"item_title\": \"item number 42\", \"item_value\": \"86\"},{\"item_id\": \"5a69196c-3efa-4776-bbe4-d7253030f25e\", \"item_title\": \"item number 43\", \"item_value\": \"65\"},{\"item_id\": \"b9335384-dc5b-47ee-adb0-58e908a203f8\", \"item_title\": \"item number 44\", \"item_value\": \"284\"}]}\n",
      "{\"user_id\": \"84f49eb7-28cf-41a8-a58d-364f32303fad\", \"checklist_id\": \"d623d621-bf6a-47c2-8654-fa86a2455725\", \"checklist_name\": \"Checklist No 559\", \"items\": [{\"item_id\": \"03f62b7b-0eb3-467b-b689-ef2e8a60e958\", \"item_title\": \"item number 42\", \"item_value\": \"42\"}], \"media\":{\"92a7ff94-8313-4d4c-bad9-aa224a3dae9aa\":{\"title\":\"image_1\", \"descritption\":\"Foo Bar, Foo Bar\"}, \"0943932a-4b35-4f9c-b13d-621a2513a429\":{\"title\":\"image_2\", \"descritption\":\"Foo Bar, Foo Bar\"}}}\n",
      "{\"user_id\": \"053571bf-23de-40b4-8be8-e9d4f89f5bed\", \"checklist_id\": \"500570e5-3cfa-4aca-b965-8a442ccabe3a\", \"checklist_name\": \"Checklist No 296\", \"items\": [{\"item_id\": \"abdcdbec-604d-43f0-a17d-896895b1a5db\", \"item_title\": \"item number 43\", \"item_value\": \"43\"},{\"item_id\": \"857e5cd1-5aed-4d5a-8f10-c6b4b1ca5ec6\", \"item_title\": \"item number 44\", \"item_value\": \"126\"},{\"item_id\": \"b8f0591d-842b-4f93-a61f-fc86f6e7ce23\", \"item_title\": \"item number 45\", \"item_value\": \"149\"},{\"item_id\": \"8d50db95-839a-437b-b340-2facab713e4d\", \"item_title\": \"item number 46\", \"item_value\": \"244\"},{\"item_id\": \"c0670e02-196a-426f-bc94-648a51da7b90\", \"item_title\": \"item number 47\", \"item_value\": \"411\"}]}\n",
      "{\"user_id\": \"38992db5-5b0b-4ba4-9add-ac4c1fadae19\", \"checklist_id\": \"f1943186-02bf-43d9-8fdb-a747ac69532b\", \"checklist_name\": \"Checklist No 805\", \"items\": [{\"item_id\": \"231a356b-bd88-4317-a6fa-34da26edb941\", \"item_title\": \"item number 44\", \"item_value\": \"44\"},{\"item_id\": \"e6f2ed0d-537b-4c89-b84d-45b32e17b0fc\", \"item_title\": \"item number 45\", \"item_value\": \"123\"},{\"item_id\": \"ecc67fbc-9d87-4902-8b3f-06a2fbd0a812\", \"item_title\": \"item number 46\", \"item_value\": \"102\"}]}\n",
      "{\"user_id\": \"9cc69da1-1043-452b-b032-fe04915fa22f\", \"checklist_id\": \"4dc9cbbe-ace7-4d23-93ae-a6e871d80adc\", \"checklist_name\": \"Checklist No 594\", \"items\": [{\"item_id\": \"c0d52805-f80c-4499-9a2b-47e57680b48c\", \"item_title\": \"item number 45\", \"item_value\": \"45\"},{\"item_id\": \"cdd27c42-1c5d-4b0f-8713-5b4cf060411b\", \"item_title\": \"item number 46\", \"item_value\": \"93\"}]}\n",
      "{\"user_id\": \"195e55b4-b843-4f7e-b9ef-c038f8465040\", \"checklist_id\": \"f7ae74e9-e441-4625-b303-00c2027e6d30\", \"checklist_name\": \"Checklist No 198\", \"items\": [{\"item_id\": \"8d312d72-d8ef-40cc-a126-c409b6211c98\", \"item_title\": \"item number 46\", \"item_value\": \"46\"},{\"item_id\": \"00d757d3-b229-4596-81fc-35d6a933fe93\", \"item_title\": \"item number 47\", \"item_value\": \"124\"},{\"item_id\": \"c5e476a9-341f-4ed1-bbf0-089aaaea94ff\", \"item_title\": \"item number 48\", \"item_value\": \"130\"},{\"item_id\": \"e7f442a3-7d04-4dfc-9221-7fb11e7272dc\", \"item_title\": \"item number 49\", \"item_value\": \"376\"}]}\n",
      "{\"user_id\": \"38992db5-5b0b-4ba4-9add-ac4c1fadae19\", \"checklist_id\": \"0b58f8aa-df68-47a1-a938-8b85ee462e5d\", \"checklist_name\": \"Checklist No 123\", \"items\": [{\"item_id\": \"f9416b5f-8c6b-454f-a1b5-1ba3dd0695d5\", \"item_title\": \"item number 47\", \"item_value\": \"47\"},{\"item_id\": \"3da5a4d9-426f-45d3-869c-6f8e7d0e39a7\", \"item_title\": \"item number 48\", \"item_value\": \"61\"},{\"item_id\": \"63e3ed7b-84a7-4437-a806-46e7d7dd0af4\", \"item_title\": \"item number 49\", \"item_value\": \"119\"}]}\n",
      "{\"user_id\": \"ddb10af5-9fed-4d43-a624-fd585c8e3673\", \"checklist_id\": \"ec7564a7-d320-48c7-9745-0d69a17e465a\", \"checklist_name\": \"Checklist No 683\", \"items\": [{\"item_id\": \"06fe2d99-d37e-4f0f-8955-e8a4c883b266\", \"item_title\": \"item number 48\", \"item_value\": \"48\"},{\"item_id\": \"88672d23-0f39-4cd9-9a04-0ddd8837a2e4\", \"item_title\": \"item number 49\", \"item_value\": \"55\"},{\"item_id\": \"1b594065-d184-4a3a-9808-a90dd5dab347\", \"item_title\": \"item number 50\", \"item_value\": \"262\"},{\"item_id\": \"df88a8e4-aab2-42ee-ad96-33105c273412\", \"item_title\": \"item number 51\", \"item_value\": \"165\"},{\"item_id\": \"9259154b-1bed-4ce0-a538-692dcb6016f8\", \"item_title\": \"item number 52\", \"item_value\": \"364\"}]}\n",
      "{\"user_id\": \"6ac30b67-face-468c-b2d1-71632442405b\", \"checklist_id\": \"2598dcea-b960-423e-8081-36918cebb1d6\", \"checklist_name\": \"Checklist No 395\", \"items\": [{\"item_id\": \"c2006aff-d3c2-44c8-a54c-ebd799dfff0d\", \"item_title\": \"item number 49\", \"item_value\": \"49\"},{\"item_id\": \"e07c7304-b971-46be-835c-e639bbbd4df7\", \"item_title\": \"item number 50\", \"item_value\": \"93\"},{\"item_id\": \"d1809836-7a72-4875-b775-f2b3fe78bd16\", \"item_title\": \"item number 51\", \"item_value\": \"189\"},{\"item_id\": \"f4a41272-1702-4eef-bf5f-cae2951e02ef\", \"item_title\": \"item number 52\", \"item_value\": \"127\"}]}\n",
      "{\"user_id\": \"3c3d679e-0257-45ed-bf47-2f3594c7d0fa\", \"checklist_id\": \"e7e27098-71b2-4574-8e9a-3ff5ba466fe6\", \"checklist_name\": \"Checklist No 582\", \"items\": [{\"item_id\": \"a358b30f-104b-49d0-971c-899a40318fab\", \"item_title\": \"item number 50\", \"item_value\": \"50\"},{\"item_id\": \"696831ab-23c5-49fb-b2ef-f1d50d1d04a4\", \"item_title\": \"item number 51\", \"item_value\": \"155\"}]}"
     ]
    }
   ],
   "source": [
    "!cat message_bus.json"
   ]
  },
  {
   "cell_type": "code",
   "execution_count": 78,
   "id": "899698af-6d2c-49f4-a81e-77df3bc221c3",
   "metadata": {},
   "outputs": [],
   "source": [
    "import json\n",
    "# with open(\"message_bus.json\", \"r\") as data:\n",
    "#     for s in json.loads(data.readlines()):\n",
    "#         print(s)\n",
    "\n",
    "data_list = [] # empty list that will hold a line of data for us\n",
    "\n",
    "for line in open('message_bus-Copy1.json', 'r'):\n",
    "    try:\n",
    "        data_list.append(json.loads(line))\n",
    "    except:\n",
    "        continue"
   ]
  },
  {
   "cell_type": "code",
   "execution_count": 79,
   "id": "b2f3e58a-a0be-4143-a41e-ae2d52c873f3",
   "metadata": {},
   "outputs": [
    {
     "data": {
      "text/plain": [
       "50"
      ]
     },
     "execution_count": 79,
     "metadata": {},
     "output_type": "execute_result"
    }
   ],
   "source": [
    "len(data_list)"
   ]
  },
  {
   "cell_type": "code",
   "execution_count": 81,
   "id": "96bb5288-d9a2-49d2-89f2-1884713ede8b",
   "metadata": {},
   "outputs": [
    {
     "data": {
      "text/html": [
       "<div>\n",
       "<style scoped>\n",
       "    .dataframe tbody tr th:only-of-type {\n",
       "        vertical-align: middle;\n",
       "    }\n",
       "\n",
       "    .dataframe tbody tr th {\n",
       "        vertical-align: top;\n",
       "    }\n",
       "\n",
       "    .dataframe thead th {\n",
       "        text-align: right;\n",
       "    }\n",
       "</style>\n",
       "<table border=\"1\" class=\"dataframe\">\n",
       "  <thead>\n",
       "    <tr style=\"text-align: right;\">\n",
       "      <th></th>\n",
       "      <th>user_id</th>\n",
       "      <th>checklist_id</th>\n",
       "      <th>checklist_name</th>\n",
       "      <th>items</th>\n",
       "    </tr>\n",
       "  </thead>\n",
       "  <tbody>\n",
       "    <tr>\n",
       "      <th>0</th>\n",
       "      <td>584f6006-dc4b-4dd3-bf8b-eafbd98859aa</td>\n",
       "      <td>c9944b8c-3342-4443-99ce-385795384f00</td>\n",
       "      <td>Checklist No 390</td>\n",
       "      <td>[{'item_id': '8b76d968-848d-4067-9d00-a6d13031...</td>\n",
       "    </tr>\n",
       "    <tr>\n",
       "      <th>1</th>\n",
       "      <td>584f6006-dc4b-4dd3-bf8b-eafbd98859aa</td>\n",
       "      <td>58979a18-b8c0-42bf-8af0-a74d5e6d07f1</td>\n",
       "      <td>Checklist No 595</td>\n",
       "      <td>[{'item_id': 'f212c872-0f67-452d-b1c9-b37a4b87...</td>\n",
       "    </tr>\n",
       "    <tr>\n",
       "      <th>2</th>\n",
       "      <td>9cc69da1-1043-452b-b032-fe04915fa22f</td>\n",
       "      <td>efb76f2f-5964-4fe0-a456-55e6c2cb7423</td>\n",
       "      <td>Checklist No 263</td>\n",
       "      <td>[{'item_id': 'a315210c-6953-404f-9832-6f2a7d2d...</td>\n",
       "    </tr>\n",
       "    <tr>\n",
       "      <th>3</th>\n",
       "      <td>22bb16aa-b898-4873-93ba-1a9392ab20ca</td>\n",
       "      <td>809fb761-3338-4a16-988b-edd6910eb55b</td>\n",
       "      <td>Checklist No 598</td>\n",
       "      <td>[{'item_id': 'dbd847d8-fc53-49c8-ba97-aa985cbc...</td>\n",
       "    </tr>\n",
       "    <tr>\n",
       "      <th>4</th>\n",
       "      <td>9cc69da1-1043-452b-b032-fe04915fa22f</td>\n",
       "      <td>0646e7d5-67a7-4286-b44d-513402eb49b4</td>\n",
       "      <td>Checklist No 462</td>\n",
       "      <td>[{'item_id': 'ec911735-ab56-4393-b7f1-989253bb...</td>\n",
       "    </tr>\n",
       "  </tbody>\n",
       "</table>\n",
       "</div>"
      ],
      "text/plain": [
       "                                user_id                          checklist_id  \\\n",
       "0  584f6006-dc4b-4dd3-bf8b-eafbd98859aa  c9944b8c-3342-4443-99ce-385795384f00   \n",
       "1  584f6006-dc4b-4dd3-bf8b-eafbd98859aa  58979a18-b8c0-42bf-8af0-a74d5e6d07f1   \n",
       "2  9cc69da1-1043-452b-b032-fe04915fa22f  efb76f2f-5964-4fe0-a456-55e6c2cb7423   \n",
       "3  22bb16aa-b898-4873-93ba-1a9392ab20ca  809fb761-3338-4a16-988b-edd6910eb55b   \n",
       "4  9cc69da1-1043-452b-b032-fe04915fa22f  0646e7d5-67a7-4286-b44d-513402eb49b4   \n",
       "\n",
       "     checklist_name                                              items  \n",
       "0  Checklist No 390  [{'item_id': '8b76d968-848d-4067-9d00-a6d13031...  \n",
       "1  Checklist No 595  [{'item_id': 'f212c872-0f67-452d-b1c9-b37a4b87...  \n",
       "2  Checklist No 263  [{'item_id': 'a315210c-6953-404f-9832-6f2a7d2d...  \n",
       "3  Checklist No 598  [{'item_id': 'dbd847d8-fc53-49c8-ba97-aa985cbc...  \n",
       "4  Checklist No 462  [{'item_id': 'ec911735-ab56-4393-b7f1-989253bb...  "
      ]
     },
     "execution_count": 81,
     "metadata": {},
     "output_type": "execute_result"
    }
   ],
   "source": [
    "bus = pd.DataFrame(data_list)\n",
    "bus.drop('media', inplace=True, axis=1)\n",
    "bus.head()"
   ]
  },
  {
   "cell_type": "code",
   "execution_count": 84,
   "id": "69ed43f4-962b-4973-93bd-849cc7e73544",
   "metadata": {},
   "outputs": [
    {
     "data": {
      "text/html": [
       "<div>\n",
       "<style scoped>\n",
       "    .dataframe tbody tr th:only-of-type {\n",
       "        vertical-align: middle;\n",
       "    }\n",
       "\n",
       "    .dataframe tbody tr th {\n",
       "        vertical-align: top;\n",
       "    }\n",
       "\n",
       "    .dataframe thead th {\n",
       "        text-align: right;\n",
       "    }\n",
       "</style>\n",
       "<table border=\"1\" class=\"dataframe\">\n",
       "  <thead>\n",
       "    <tr style=\"text-align: right;\">\n",
       "      <th></th>\n",
       "      <th>user_id</th>\n",
       "      <th>checklist_id</th>\n",
       "      <th>checklist_name</th>\n",
       "      <th>items</th>\n",
       "    </tr>\n",
       "  </thead>\n",
       "  <tbody>\n",
       "    <tr>\n",
       "      <th>0</th>\n",
       "      <td>584f6006-dc4b-4dd3-bf8b-eafbd98859aa</td>\n",
       "      <td>c9944b8c-3342-4443-99ce-385795384f00</td>\n",
       "      <td>Checklist No 390</td>\n",
       "      <td>{'item_id': '8b76d968-848d-4067-9d00-a6d13031d...</td>\n",
       "    </tr>\n",
       "    <tr>\n",
       "      <th>1</th>\n",
       "      <td>584f6006-dc4b-4dd3-bf8b-eafbd98859aa</td>\n",
       "      <td>58979a18-b8c0-42bf-8af0-a74d5e6d07f1</td>\n",
       "      <td>Checklist No 595</td>\n",
       "      <td>{'item_id': 'f212c872-0f67-452d-b1c9-b37a4b87e...</td>\n",
       "    </tr>\n",
       "    <tr>\n",
       "      <th>2</th>\n",
       "      <td>9cc69da1-1043-452b-b032-fe04915fa22f</td>\n",
       "      <td>efb76f2f-5964-4fe0-a456-55e6c2cb7423</td>\n",
       "      <td>Checklist No 263</td>\n",
       "      <td>{'item_id': 'a315210c-6953-404f-9832-6f2a7d2db...</td>\n",
       "    </tr>\n",
       "    <tr>\n",
       "      <th>3</th>\n",
       "      <td>9cc69da1-1043-452b-b032-fe04915fa22f</td>\n",
       "      <td>efb76f2f-5964-4fe0-a456-55e6c2cb7423</td>\n",
       "      <td>Checklist No 263</td>\n",
       "      <td>{'item_id': 'cd463ff1-09be-4ec9-81b3-53fcfc7da...</td>\n",
       "    </tr>\n",
       "    <tr>\n",
       "      <th>4</th>\n",
       "      <td>9cc69da1-1043-452b-b032-fe04915fa22f</td>\n",
       "      <td>efb76f2f-5964-4fe0-a456-55e6c2cb7423</td>\n",
       "      <td>Checklist No 263</td>\n",
       "      <td>{'item_id': 'e1fada8d-8f05-4cd3-b08c-765a5e0df...</td>\n",
       "    </tr>\n",
       "    <tr>\n",
       "      <th>5</th>\n",
       "      <td>22bb16aa-b898-4873-93ba-1a9392ab20ca</td>\n",
       "      <td>809fb761-3338-4a16-988b-edd6910eb55b</td>\n",
       "      <td>Checklist No 598</td>\n",
       "      <td>{'item_id': 'dbd847d8-fc53-49c8-ba97-aa985cbc4...</td>\n",
       "    </tr>\n",
       "    <tr>\n",
       "      <th>6</th>\n",
       "      <td>22bb16aa-b898-4873-93ba-1a9392ab20ca</td>\n",
       "      <td>809fb761-3338-4a16-988b-edd6910eb55b</td>\n",
       "      <td>Checklist No 598</td>\n",
       "      <td>{'item_id': '6312e8d9-5328-4d87-aefc-630b9bf23...</td>\n",
       "    </tr>\n",
       "    <tr>\n",
       "      <th>7</th>\n",
       "      <td>9cc69da1-1043-452b-b032-fe04915fa22f</td>\n",
       "      <td>0646e7d5-67a7-4286-b44d-513402eb49b4</td>\n",
       "      <td>Checklist No 462</td>\n",
       "      <td>{'item_id': 'ec911735-ab56-4393-b7f1-989253bb8...</td>\n",
       "    </tr>\n",
       "    <tr>\n",
       "      <th>8</th>\n",
       "      <td>9cc69da1-1043-452b-b032-fe04915fa22f</td>\n",
       "      <td>0646e7d5-67a7-4286-b44d-513402eb49b4</td>\n",
       "      <td>Checklist No 462</td>\n",
       "      <td>{'item_id': '49b3a4c1-3ecf-4a81-9269-7fde741db...</td>\n",
       "    </tr>\n",
       "    <tr>\n",
       "      <th>9</th>\n",
       "      <td>43198eb0-6fe0-40ad-a852-c0f23e5af3f9</td>\n",
       "      <td>01ed3b68-3667-46c2-b9d1-e66e8bb0cd01</td>\n",
       "      <td>Checklist No 155</td>\n",
       "      <td>{'item_id': '60b6dceb-81af-44f5-b505-703fe26ab...</td>\n",
       "    </tr>\n",
       "  </tbody>\n",
       "</table>\n",
       "</div>"
      ],
      "text/plain": [
       "                                user_id                          checklist_id  \\\n",
       "0  584f6006-dc4b-4dd3-bf8b-eafbd98859aa  c9944b8c-3342-4443-99ce-385795384f00   \n",
       "1  584f6006-dc4b-4dd3-bf8b-eafbd98859aa  58979a18-b8c0-42bf-8af0-a74d5e6d07f1   \n",
       "2  9cc69da1-1043-452b-b032-fe04915fa22f  efb76f2f-5964-4fe0-a456-55e6c2cb7423   \n",
       "3  9cc69da1-1043-452b-b032-fe04915fa22f  efb76f2f-5964-4fe0-a456-55e6c2cb7423   \n",
       "4  9cc69da1-1043-452b-b032-fe04915fa22f  efb76f2f-5964-4fe0-a456-55e6c2cb7423   \n",
       "5  22bb16aa-b898-4873-93ba-1a9392ab20ca  809fb761-3338-4a16-988b-edd6910eb55b   \n",
       "6  22bb16aa-b898-4873-93ba-1a9392ab20ca  809fb761-3338-4a16-988b-edd6910eb55b   \n",
       "7  9cc69da1-1043-452b-b032-fe04915fa22f  0646e7d5-67a7-4286-b44d-513402eb49b4   \n",
       "8  9cc69da1-1043-452b-b032-fe04915fa22f  0646e7d5-67a7-4286-b44d-513402eb49b4   \n",
       "9  43198eb0-6fe0-40ad-a852-c0f23e5af3f9  01ed3b68-3667-46c2-b9d1-e66e8bb0cd01   \n",
       "\n",
       "     checklist_name                                              items  \n",
       "0  Checklist No 390  {'item_id': '8b76d968-848d-4067-9d00-a6d13031d...  \n",
       "1  Checklist No 595  {'item_id': 'f212c872-0f67-452d-b1c9-b37a4b87e...  \n",
       "2  Checklist No 263  {'item_id': 'a315210c-6953-404f-9832-6f2a7d2db...  \n",
       "3  Checklist No 263  {'item_id': 'cd463ff1-09be-4ec9-81b3-53fcfc7da...  \n",
       "4  Checklist No 263  {'item_id': 'e1fada8d-8f05-4cd3-b08c-765a5e0df...  \n",
       "5  Checklist No 598  {'item_id': 'dbd847d8-fc53-49c8-ba97-aa985cbc4...  \n",
       "6  Checklist No 598  {'item_id': '6312e8d9-5328-4d87-aefc-630b9bf23...  \n",
       "7  Checklist No 462  {'item_id': 'ec911735-ab56-4393-b7f1-989253bb8...  \n",
       "8  Checklist No 462  {'item_id': '49b3a4c1-3ecf-4a81-9269-7fde741db...  \n",
       "9  Checklist No 155  {'item_id': '60b6dceb-81af-44f5-b505-703fe26ab...  "
      ]
     },
     "execution_count": 84,
     "metadata": {},
     "output_type": "execute_result"
    }
   ],
   "source": [
    "bus2 = bus.explode(\"items\", ignore_index=True)\n",
    "bus2.head(10)"
   ]
  },
  {
   "cell_type": "code",
   "execution_count": 85,
   "id": "f5e3d139-29e8-4c2e-b9ee-396fc03ed0bb",
   "metadata": {},
   "outputs": [],
   "source": [
    "import numpy as np"
   ]
  },
  {
   "cell_type": "code",
   "execution_count": 86,
   "id": "5bfccfec-3db1-40a5-8da9-32d37d5ca0ce",
   "metadata": {
    "scrolled": true,
    "tags": []
   },
   "outputs": [
    {
     "name": "stdout",
     "output_type": "stream",
     "text": [
      "3\n"
     ]
    }
   ],
   "source": [
    "lst = []\n",
    "\n",
    "for index, row in bus2.iterrows():\n",
    "#     print(index)\n",
    "\n",
    "    for key, value in row['items'].items():\n",
    "        lst.append(key)\n",
    "print(len(pd.Series(lst).unique()))\n",
    "#         lst.append([index, key, value])\n",
    "\n",
    "\n",
    "# new = pd.DataFrame(lst, columns=['id', 'string', 'value'])"
   ]
  },
  {
   "cell_type": "code",
   "execution_count": 87,
   "id": "43688600-0e08-4f01-876d-0560f6f58379",
   "metadata": {},
   "outputs": [
    {
     "data": {
      "text/plain": [
       "444"
      ]
     },
     "execution_count": 87,
     "metadata": {},
     "output_type": "execute_result"
    }
   ],
   "source": [
    "len(lst)"
   ]
  },
  {
   "cell_type": "code",
   "execution_count": 88,
   "id": "facd8228-febd-41a9-b293-6bed60c408c3",
   "metadata": {},
   "outputs": [
    {
     "data": {
      "text/html": [
       "<div>\n",
       "<style scoped>\n",
       "    .dataframe tbody tr th:only-of-type {\n",
       "        vertical-align: middle;\n",
       "    }\n",
       "\n",
       "    .dataframe tbody tr th {\n",
       "        vertical-align: top;\n",
       "    }\n",
       "\n",
       "    .dataframe thead th {\n",
       "        text-align: right;\n",
       "    }\n",
       "</style>\n",
       "<table border=\"1\" class=\"dataframe\">\n",
       "  <thead>\n",
       "    <tr style=\"text-align: right;\">\n",
       "      <th></th>\n",
       "      <th>user_id</th>\n",
       "      <th>email</th>\n",
       "      <th>name</th>\n",
       "      <th>address</th>\n",
       "      <th>country</th>\n",
       "      <th>city</th>\n",
       "      <th>postcode</th>\n",
       "      <th>company_name</th>\n",
       "    </tr>\n",
       "  </thead>\n",
       "  <tbody>\n",
       "    <tr>\n",
       "      <th>0</th>\n",
       "      <td>ddb10af5-9fed-4d43-a624-fd585c8e3673</td>\n",
       "      <td>jginspace@verizon.net</td>\n",
       "      <td>Danny Bird</td>\n",
       "      <td>Address 1</td>\n",
       "      <td>Australia</td>\n",
       "      <td>Sydney</td>\n",
       "      <td>2000</td>\n",
       "      <td>Company_1</td>\n",
       "    </tr>\n",
       "    <tr>\n",
       "      <th>1</th>\n",
       "      <td>584f6006-dc4b-4dd3-bf8b-eafbd98859aa</td>\n",
       "      <td>phizntrg@hotmail.com</td>\n",
       "      <td>Quincy Walls</td>\n",
       "      <td>Address 2</td>\n",
       "      <td>Australia</td>\n",
       "      <td>Melbourne</td>\n",
       "      <td>3000</td>\n",
       "      <td>Company_2</td>\n",
       "    </tr>\n",
       "    <tr>\n",
       "      <th>2</th>\n",
       "      <td>195e55b4-b843-4f7e-b9ef-c038f8465040</td>\n",
       "      <td>natepuri@aol.com</td>\n",
       "      <td>Hana Jenkins</td>\n",
       "      <td>Address 3</td>\n",
       "      <td>Australia</td>\n",
       "      <td>Townsville</td>\n",
       "      <td>4810</td>\n",
       "      <td>Company_3</td>\n",
       "    </tr>\n",
       "    <tr>\n",
       "      <th>3</th>\n",
       "      <td>d4078c4e-059a-4e68-bad7-e0ba9714d935</td>\n",
       "      <td>north@comcast.net</td>\n",
       "      <td>Sylvia Ibarra</td>\n",
       "      <td>Address 4</td>\n",
       "      <td>Australia</td>\n",
       "      <td>Sydney</td>\n",
       "      <td>2000</td>\n",
       "      <td>Company_4</td>\n",
       "    </tr>\n",
       "    <tr>\n",
       "      <th>4</th>\n",
       "      <td>9cc69da1-1043-452b-b032-fe04915fa22f</td>\n",
       "      <td>kjohnson@msn.com</td>\n",
       "      <td>Marvin Clayton</td>\n",
       "      <td>Address 5</td>\n",
       "      <td>Australia</td>\n",
       "      <td>Melbourne</td>\n",
       "      <td>3000</td>\n",
       "      <td>Company_5</td>\n",
       "    </tr>\n",
       "  </tbody>\n",
       "</table>\n",
       "</div>"
      ],
      "text/plain": [
       "                                user_id                  email  \\\n",
       "0  ddb10af5-9fed-4d43-a624-fd585c8e3673  jginspace@verizon.net   \n",
       "1  584f6006-dc4b-4dd3-bf8b-eafbd98859aa   phizntrg@hotmail.com   \n",
       "2  195e55b4-b843-4f7e-b9ef-c038f8465040       natepuri@aol.com   \n",
       "3  d4078c4e-059a-4e68-bad7-e0ba9714d935      north@comcast.net   \n",
       "4  9cc69da1-1043-452b-b032-fe04915fa22f       kjohnson@msn.com   \n",
       "\n",
       "             name    address    country        city  postcode company_name  \n",
       "0      Danny Bird  Address 1  Australia      Sydney      2000    Company_1  \n",
       "1    Quincy Walls  Address 2  Australia   Melbourne      3000    Company_2  \n",
       "2    Hana Jenkins  Address 3  Australia  Townsville      4810    Company_3  \n",
       "3   Sylvia Ibarra  Address 4  Australia      Sydney      2000    Company_4  \n",
       "4  Marvin Clayton  Address 5  Australia   Melbourne      3000    Company_5  "
      ]
     },
     "execution_count": 88,
     "metadata": {},
     "output_type": "execute_result"
    }
   ],
   "source": [
    "dbs = pd.read_csv(\"database.csv\")\n",
    "dbs.head()"
   ]
  },
  {
   "cell_type": "code",
   "execution_count": 91,
   "id": "f4702be4-e731-4112-b246-6f0f803ec141",
   "metadata": {},
   "outputs": [
    {
     "data": {
      "text/plain": [
       "(20, 8)"
      ]
     },
     "execution_count": 91,
     "metadata": {},
     "output_type": "execute_result"
    }
   ],
   "source": [
    "dbs.shape"
   ]
  },
  {
   "cell_type": "code",
   "execution_count": 89,
   "id": "54a31598-1cbd-448e-b2fe-16afdcc945ed",
   "metadata": {},
   "outputs": [
    {
     "data": {
      "text/plain": [
       "user_id         0\n",
       "email           0\n",
       "name            0\n",
       "address         0\n",
       "country         0\n",
       "city            0\n",
       "postcode        0\n",
       "company_name    0\n",
       "dtype: int64"
      ]
     },
     "execution_count": 89,
     "metadata": {},
     "output_type": "execute_result"
    }
   ],
   "source": [
    "dbs.isna().sum()"
   ]
  },
  {
   "cell_type": "code",
   "execution_count": 96,
   "id": "bbe00677-cfaf-4de4-b072-d5abfd0eb7f7",
   "metadata": {},
   "outputs": [
    {
     "data": {
      "text/plain": [
       "(148, 16)"
      ]
     },
     "execution_count": 96,
     "metadata": {},
     "output_type": "execute_result"
    }
   ],
   "source": [
    "merged_data = dbs.merge(bus2, left_on='user_id', right_on='user_id').merge(third_party, left_on='email', right_on='user_email')\n",
    "merged_data.shape"
   ]
  },
  {
   "cell_type": "markdown",
   "id": "33564a23-92d6-462a-b95d-0909a687a18b",
   "metadata": {},
   "source": [
    "## Save it"
   ]
  },
  {
   "cell_type": "code",
   "execution_count": null,
   "id": "b4c89ee5-e67a-48b7-9bea-694b6e190977",
   "metadata": {},
   "outputs": [],
   "source": []
  },
  {
   "cell_type": "markdown",
   "id": "a304ed29-299e-4914-ba23-c850a5087f4a",
   "metadata": {},
   "source": [
    "## Add it to new database"
   ]
  },
  {
   "cell_type": "code",
   "execution_count": null,
   "id": "591f011f-1a3b-4100-b15f-30e81b5f53ec",
   "metadata": {},
   "outputs": [],
   "source": []
  },
  {
   "cell_type": "markdown",
   "id": "458c2a97-fa65-46a2-b3b3-5fc974a90505",
   "metadata": {},
   "source": [
    "## Visualize it"
   ]
  },
  {
   "cell_type": "code",
   "execution_count": null,
   "id": "f133b567-80f2-4c6f-87eb-3891c1ebde97",
   "metadata": {},
   "outputs": [],
   "source": []
  },
  {
   "cell_type": "code",
   "execution_count": 95,
   "id": "b34ab5dc-0cb4-44b8-98c4-069b5b941e78",
   "metadata": {},
   "outputs": [],
   "source": [
    "import holoviews as hv"
   ]
  },
  {
   "cell_type": "code",
   "execution_count": null,
   "id": "8443aa58-d74f-45b9-8271-3341fdde2de6",
   "metadata": {},
   "outputs": [],
   "source": [
    "hv"
   ]
  },
  {
   "cell_type": "code",
   "execution_count": null,
   "id": "a27ab78c-3639-4de3-9dbe-c850f06ac3d6",
   "metadata": {},
   "outputs": [],
   "source": []
  },
  {
   "cell_type": "code",
   "execution_count": null,
   "id": "1fe75321-c583-4ae9-9f8b-68f294fee0ae",
   "metadata": {},
   "outputs": [],
   "source": []
  },
  {
   "cell_type": "markdown",
   "id": "0149300c-b309-4cfc-afb0-a68c2c98dcf4",
   "metadata": {},
   "source": [
    "## Add-Ons"
   ]
  },
  {
   "cell_type": "code",
   "execution_count": null,
   "id": "d74eb1f7-6e30-49f7-95f6-0a00050e43a9",
   "metadata": {},
   "outputs": [],
   "source": [
    "def extract_table_to_pandas(tablename, db_engine):\n",
    "    query = \"SELECT * FROM {}\".format(tablename)\n",
    "    return pd.read_sql(query, db_engine)"
   ]
  },
  {
   "cell_type": "code",
   "execution_count": null,
   "id": "c4816d24-819b-42c1-932b-8ed43b376deb",
   "metadata": {},
   "outputs": [],
   "source": [
    "connection_uri = \"postgresql://____:____@____:____/____\" \n",
    "db_engine = sqlalchemy.create_engine(connection_uri)\n",
    "\n",
    "# Extract the film table into a pandas DataFrame\n",
    "extract_table_to_pandas(\"____\", db_engine)\n",
    "\n",
    "# Extract the customer table into a pandas DataFrame\n",
    "extract_table_to_pandas(\"____\", db_engine)"
   ]
  },
  {
   "cell_type": "code",
   "execution_count": null,
   "id": "0f81ddfa-f78d-427a-8b2a-0566ae3eea60",
   "metadata": {},
   "outputs": [],
   "source": []
  },
  {
   "cell_type": "code",
   "execution_count": null,
   "id": "69145a2c-15a3-409c-9221-006f458c2b4c",
   "metadata": {},
   "outputs": [],
   "source": [
    "def extract_table_to_df(tablename, db_engine):\n",
    "    return pd.read_sql(\"SELECT * FROM {}\".format(tablename), \n",
    "                       db_engine)\n",
    "def split_columns_transform(df, column, pat, suffixes):\n",
    "    # Converts column into str and splits it on pat...\n",
    "    \n",
    "def load_df_into_dwh(film_df, tablename, schema, db_engine):\n",
    "    return pd.to_sql(tablename, db_engine, schema=schema, if_exists=\"replace\")\n",
    "\n",
    "db_engines = { ... } \n",
    "# Needs to be configureddefetl():# Extract  \n",
    "film_df = extract_table_to_df(\"film\", db_engines[\"store\"])\n",
    "# Transform  \n",
    "film_df = split_columns_transform(film_df, \"rental_rate\", \".\", [\"_dollar\", \"_cents\"])\n",
    "# Load  \n",
    "load_df_into_dwh(film_df, \"film\", \"store\", db_engines[\"dwh\"])"
   ]
  },
  {
   "cell_type": "code",
   "execution_count": null,
   "id": "dbf02df2-a74d-439f-97a7-0f5fdd25df84",
   "metadata": {},
   "outputs": [],
   "source": [
    "from airflow.models import DAG\n",
    "from airflow.operators.python_operator import PythonOperator\n",
    "\n",
    "dag = DAG(dag_id=\"etl_pipeline\",\n",
    "          schedule_interval=\"0 0 * * *\")\n",
    "\n",
    "etl_task = PythonOperator(task_id=\"etl_task\",\n",
    "                          python_callable=etl,\n",
    "                          dag=dag)\n",
    "\n",
    "etl_task.set_upstream(wait_for_this_task)"
   ]
  },
  {
   "cell_type": "code",
   "execution_count": null,
   "id": "b0695a73-7902-4ae1-b3c9-874dd6c511d8",
   "metadata": {},
   "outputs": [],
   "source": [
    "# connect to the engine and experiment once it finishes loading the data\n",
    "\n",
    "pd.read_sql('SELECT rating, AVG(rental_duration) FROM film GROUP BY rating ORDER BY AVG', db_engine)"
   ]
  },
  {
   "cell_type": "code",
   "execution_count": 8,
   "id": "dc237a95-c0e6-42f9-be1d-cb4203126d08",
   "metadata": {},
   "outputs": [
    {
     "data": {
      "text/plain": [
       "<Task(PythonOperator): load_the_data>"
      ]
     },
     "execution_count": 8,
     "metadata": {},
     "output_type": "execute_result"
    }
   ],
   "source": [
    "from datetime import timedelta\n",
    "from textwrap import dedent\n",
    "import pandas as pd, os\n",
    "\n",
    "# The DAG object; we'll need this to instantiate a DAG\n",
    "from airflow import DAG\n",
    "\n",
    "# Operators; we need this to operate!\n",
    "from airflow.operators.python import PythonOperator\n",
    "from airflow.utils.dates import days_ago\n",
    "# These args will get passed on to each operator\n",
    "\n",
    "\n",
    "message_http = \"3rd_party_data.json\"\n",
    "message_bus = \"message_bus.json\"\n",
    "databases = \"database.csv\"\n",
    "path_4_transformed_data = \".\"\n",
    "name_4_transformed_data = \"cleaned_data.parquet\"\n",
    "\n",
    "\n",
    "\n",
    "dag = DAG(dag_id='etl_safety', \n",
    "          description='A simple tutorial DAG',\n",
    "          start_date=days_ago(2),\n",
    "          schedule_interval=None\n",
    "         )\n",
    "\n",
    "def read_message_http(file):\n",
    "    return pd.read_json(file, lines=True)\n",
    "\n",
    "\n",
    "etract_1 = PythonOperator(\n",
    "         task_id='read_http_messages',\n",
    "         python_callable=read_message_http,\n",
    "         op_kwargs={\"file\": message_http},\n",
    "         dag=dag\n",
    ")\n",
    "\n",
    "def read_message_bus(file):\n",
    "    data_list = [] # empty list that will hold a line of data for us\n",
    "\n",
    "    for line in open(file, 'r'):\n",
    "        try:\n",
    "            data_list.append(json.loads(line))\n",
    "        except:\n",
    "            continue\n",
    "    \n",
    "    return pd.DataFrame(data_list)\n",
    "\n",
    "\n",
    "etract_2 = PythonOperator(\n",
    "         task_id='read_bus_messages',\n",
    "#          depends_on_past=False,\n",
    "         python_callable=read_message_bus,\n",
    "         op_kwargs={\"file\": message_bus},\n",
    "         dag=dag\n",
    ")\n",
    "\n",
    "def read_from_database(file):\n",
    "    return pd.read_csv(file)\n",
    "\n",
    "etract_3 = PythonOperator(\n",
    "         task_id='read_databases',\n",
    "#          depends_on_past=False,\n",
    "         python_callable=read_from_database,\n",
    "         op_kwargs={\"file\": databases},\n",
    "         dag=dag\n",
    ")\n",
    "\n",
    "\n",
    "def transform_merge(etract_1, etract_2, etract_3):\n",
    "    \n",
    "    extract_2 = extract_2.drop('media', axis=1).explode(\"items\", ignore_index=True)\n",
    "    \n",
    "    return (etract_1.merge(extract_2, left_on='user_id', right_on='user_id')\n",
    "                    .merge(extract_3, left_on='email', right_on='user_email'))\n",
    "\n",
    "transform = PythonOperator(\n",
    "                task_id='transform_and_merge',\n",
    "                python_callable=transform_merge,\n",
    "                op_kwargs={\"etract_1\": etract_1, \n",
    "                           'etract_2': etract_2,\n",
    "                           'etract_3': etract_3},\n",
    "                dag=dag\n",
    ")\n",
    "\n",
    "\n",
    "def load_data(path, name, transformed_data):\n",
    "    transformed_data.to_parquet(os.path.join(path, name))\n",
    "\n",
    "load = PythonOperator(\n",
    "    task_id='load_the_data',\n",
    "    python_callable=load_data,\n",
    "    op_kwargs={\"path\": path_4_transformed_data, \n",
    "               'name': name_4_transformed_data,\n",
    "               'transformed_data': transform},\n",
    "    dag=dag\n",
    ")\n",
    "\n",
    "\n",
    "\n",
    "[etract_1, etract_2, etract_3] >> transform >> load"
   ]
  },
  {
   "cell_type": "code",
   "execution_count": null,
   "id": "11fa3e9c-c635-47de-9c3d-1f289a862b34",
   "metadata": {},
   "outputs": [],
   "source": []
  }
 ],
 "metadata": {
  "kernelspec": {
   "display_name": "Python 3",
   "language": "python",
   "name": "python3"
  },
  "language_info": {
   "codemirror_mode": {
    "name": "ipython",
    "version": 3
   },
   "file_extension": ".py",
   "mimetype": "text/x-python",
   "name": "python",
   "nbconvert_exporter": "python",
   "pygments_lexer": "ipython3",
   "version": "3.8.11"
  }
 },
 "nbformat": 4,
 "nbformat_minor": 5
}
